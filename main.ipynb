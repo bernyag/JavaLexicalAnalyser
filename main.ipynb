{
 "cells": [
  {
   "cell_type": "code",
   "execution_count": 1,
   "metadata": {},
   "outputs": [],
   "source": [
    "import re\n",
    "from short import countShort\n",
    "from long import countLong\n",
    "from int import countInt\n",
    "from boolean import countBoolean\n",
    "from byte import countByte\n",
    "from char import countChar\n",
    "from doubleFloat import countFloat, countDouble\n",
    "from String import countString\n",
    "from regex import info"
   ]
  },
  {
   "cell_type": "code",
   "execution_count": null,
   "metadata": {},
   "outputs": [],
   "source": [
    "file = open(\"java-regex.txt\", \"r\")\n",
    "content = file.read()\n",
    "lines = content.split(';')\n",
    "lines.pop()\n",
    "file.close()"
   ]
  },
  {
   "cell_type": "code",
   "execution_count": null,
   "metadata": {},
   "outputs": [],
   "source": [
    "lines = [x.lstrip() for x in lines]\n",
    "lines"
   ]
  },
  {
   "cell_type": "code",
   "execution_count": null,
   "metadata": {},
   "outputs": [],
   "source": [
    "counters = {\n",
    "    \"int\": (0,0),\n",
    "    \"int[]\": (0,0),\n",
    "    \"String\": (0,0),\n",
    "    \"String[]\": (0,0),\n",
    "    \"boolean\": (0,0),\n",
    "    \"boolean[]\": (0,0),\n",
    "    \"char\": (0,0),\n",
    "    \"char[]\": (0,0),\n",
    "    \"byte\": (0,0),\n",
    "    \"byte[]\": (0,0),\n",
    "    \"short\": (0,0),\n",
    "    \"short[]\": (0,0),\n",
    "    \"long\": (0,0),\n",
    "    \"long[]\": (0,0),\n",
    "    \"float\": (0,0),\n",
    "    \"float[]\": (0,0),\n",
    "    \"double\": (0,0),\n",
    "    \"double[]\": (0,0)\n",
    "}"
   ]
  },
  {
   "cell_type": "code",
   "execution_count": null,
   "metadata": {},
   "outputs": [],
   "source": [
    "def switch(label, line):\n",
    "    switcher={\n",
    "        \"int\": (lambda x: countInt(x))(line),\n",
    "        \"int[]\": (lambda x: countInt(x))(line),\n",
    "        \"String\": (lambda x: countString(x))(line),\n",
    "        \"String[]\": (lambda x: countString(x))(line),\n",
    "        \"boolean\": (lambda x: countBoolean(x))(line),\n",
    "        \"boolean[]\": (lambda x: countBoolean(x))(line),\n",
    "        \"char\": (lambda x: countChar(x))(line),\n",
    "        \"char[]\": (lambda x: countChar(x))(line),\n",
    "        \"byte\": (lambda x: countByte(x))(line),\n",
    "        \"byte[]\": (lambda x: countByte(x))(line),\n",
    "        \"short\": (lambda x: countShort(x))(line),\n",
    "        \"short[]\": (lambda x: countShort(x))(line),\n",
    "        \"long\": (lambda x: countLong(x))(line),\n",
    "        \"long[]\": (lambda x: countLong(x))(line),\n",
    "        \"float\": (lambda x: countFloat(x))(line),\n",
    "        \"float[]\": (lambda x: countFloat(x))(line),\n",
    "        \"double\": (lambda x: countDouble(x))(line),\n",
    "        \"double[]\": (lambda x: countDouble(x))(line),\n",
    "        }\n",
    "    return switcher.get(label,(1000, 1000))"
   ]
  },
  {
   "cell_type": "code",
   "execution_count": null,
   "metadata": {},
   "outputs": [],
   "source": [
    "for line in lines:\n",
    "    print(\"-------------  \", line.split()[0], \"line: \", line, \"  -------------\")\n",
    "    print(\"countInt: \", countInt(line))\n",
    "    print(\"countString: \", countString(line))\n",
    "    print(\"countBoolean: \", countBoolean(line))\n",
    "    print(\"countChar: \", countChar(line))\n",
    "    print(\"countByte: \", countByte(line))\n",
    "    print(\"countShort: \", countShort(line))\n",
    "    print(\"countLong: \", countLong(line))\n",
    "    print(\"countFloat: \", countFloat(line))\n",
    "    print(\"countDouble: \", countDouble(line))\n",
    "    print(\"\")\n",
    "    counters[ line.split()[0] ] = tuple(map(sum,zip(counters[ line.split()[0] ], switch( line.split()[0], line)[1:])))"
   ]
  },
  {
   "cell_type": "code",
   "execution_count": null,
   "metadata": {},
   "outputs": [],
   "source": [
    "counters"
   ]
  },
  {
   "cell_type": "code",
   "execution_count": 2,
   "metadata": {},
   "outputs": [],
   "source": [
    "from main import evaluate"
   ]
  },
  {
   "cell_type": "code",
   "execution_count": 3,
   "metadata": {},
   "outputs": [
    {
     "output_type": "stream",
     "name": "stdout",
     "text": [
      "Java Lexical Analyser \n\nExpresiones a evaluar \n\nint a, b, c\nint d = 20\nint[] intArr = {1, 2, 3, 4, 1, 2, 3}\nString str1, str2, str3\nString str4 = \"Cadena 4\"\nString[] strArr = {\"cd1\", \"cd2\", \"cd3\"}\nboolean bl1, bl2, bl3\nboolean bl4 = true\nboolean[] blArr = {true, false, true}\nchar ch1 = 'A'\nchar[] chArr = {'A', 'B', 'C'}\nbyte byt1 = 127\nbyte[] bytArr = {1, 2, 3, 4, 1, 2, 3}\nshort shrt1 = 8\nshort[] shrtArr = {5, 6, 7, 8}\nlong lng1 = 1000000l\nlong[] longArr = {10000l, 20000l, 30000l, 40000l}\nfloat flt1 = 90f\nfloat[] floatArr = {10f, 20f, 30f, 40f}\ndouble dbl1 = 10.10\ndouble[] dblArr = {1.1, 2.2, 3.3}\n\n\nLa expresión:  int a, b, c  es una declaración válida.\nLa expresión:  int d = 20  es una declaración válida.\nLa expresión:  int[] intArr = {1, 2, 3, 4, 1, 2, 3}  es una declaración válida.\nLa expresión:  String str1, str2, str3  es una declaración válida.\nLa expresión:  String str4 = \"Cadena 4\"  es una declaración válida.\nLa expresión:  String[] strArr = {\"cd1\", \"cd2\", \"cd3\"}  es una declaración válida.\nLa expresión:  boolean bl1, bl2, bl3  es una declaración válida.\nLa expresión:  boolean bl4 = true  es una declaración válida.\nLa expresión:  boolean[] blArr = {true, false, true}  es una declaración válida.\nLa expresión:  char ch1 = 'A'  es una declaración válida.\nLa expresión:  char[] chArr = {'A', 'B', 'C'}  es una declaración válida.\nLa expresión:  byte byt1 = 127  es una declaración válida.\nLa expresión:  byte[] bytArr = {1, 2, 3, 4, 1, 2, 3}  es una declaración válida.\nLa expresión:  short shrt1 = 8  es una declaración válida.\nLa expresión:  short[] shrtArr = {5, 6, 7, 8}  es una declaración válida.\nLa expresión:  long lng1 = 1000000l  es una declaración válida.\nLa expresión:  long[] longArr = {10000l, 20000l, 30000l, 40000l}  es una declaración válida.\nLa expresión:  float flt1 = 90f  es una declaración válida.\nLa expresión:  float[] floatArr = {10f, 20f, 30f, 40f}  es una declaración válida.\nLa expresión:  double dbl1 = 10.10  es una declaración válida.\nLa expresión:  double[] dblArr = {1.1, 2.2, 3.3}  es una declaración válida.\n\n\n-------------------------------------  Resultados  ---------------------------------------- \n\n\n\nTotal de variables declaradas: 24\n\nTotal de variables inicializadas: 21\n\nTotal de variables tipo arreglo declaradas: 9\n\nTotal de variables tipo arreglo inicializadas: 9\n\nClasificación de los nombres de las variables de acuerdo a su tipo:\n\nint : {'a', 'c', 'd', 'b'}\nint[] : {'intArr'}\nString : {'str4', 'str2', 'str1', 'str3'}\nString[] : {'strArr'}\nboolean : {'bl3', 'bl4', 'bl2', 'bl1'}\nboolean[] : {'blArr'}\nchar : {'ch1'}\nchar[] : {'chArr'}\nbyte : {'byt1'}\nbyte[] : {'bytArr'}\nshort : {'shrt1'}\nshort[] : {'shrtArr'}\nlong : {'lng1'}\nlong[] : {'longArr'}\nfloat : {'flt1'}\nfloat[] : {'floatArr'}\ndouble : {'dbl1'}\ndouble[] : {'dblArr'}\n"
     ]
    }
   ],
   "source": [
    "evaluate()"
   ]
  }
 ],
 "metadata": {
  "kernelspec": {
   "display_name": "Python 3",
   "language": "python",
   "name": "python3"
  },
  "language_info": {
   "codemirror_mode": {
    "name": "ipython",
    "version": 3
   },
   "file_extension": ".py",
   "mimetype": "text/x-python",
   "name": "python",
   "nbconvert_exporter": "python",
   "pygments_lexer": "ipython3",
   "version": "3.7.3-final"
  }
 },
 "nbformat": 4,
 "nbformat_minor": 2
}