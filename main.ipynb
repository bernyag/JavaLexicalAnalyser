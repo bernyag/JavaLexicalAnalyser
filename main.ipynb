{
 "cells": [
  {
   "cell_type": "code",
   "execution_count": null,
   "metadata": {},
   "outputs": [],
   "source": [
    "import re\n",
    "from short import countShort\n",
    "from long import countLong\n",
    "from int import countInt\n",
    "from boolean import countBoolean\n",
    "from byte import countByte\n",
    "from char import countChar\n",
    "from DoubleFloat import countFloat, countDouble\n",
    "from String import countString\n",
    "from regex import info"
   ]
  },
  {
   "cell_type": "code",
   "execution_count": null,
   "metadata": {},
   "outputs": [],
   "source": [
    "file = open(\"java-regex.txt\", \"r\")\n",
    "content = file.read()\n",
    "lines = content.split(';')\n",
    "lines.pop()\n",
    "file.close()"
   ]
  },
  {
   "cell_type": "code",
   "execution_count": null,
   "metadata": {},
   "outputs": [],
   "source": [
    "lines = [x.lstrip() for x in lines]\n",
    "lines"
   ]
  },
  {
   "cell_type": "code",
   "execution_count": null,
   "metadata": {},
   "outputs": [],
   "source": [
    "counters = {\n",
    "    \"int\": (0,0),\n",
    "    \"int[]\": (0,0),\n",
    "    \"String\": (0,0),\n",
    "    \"String[]\": (0,0),\n",
    "    \"boolean\": (0,0),\n",
    "    \"boolean[]\": (0,0),\n",
    "    \"char\": (0,0),\n",
    "    \"char[]\": (0,0),\n",
    "    \"byte\": (0,0),\n",
    "    \"byte[]\": (0,0),\n",
    "    \"short\": (0,0),\n",
    "    \"short[]\": (0,0),\n",
    "    \"long\": (0,0),\n",
    "    \"long[]\": (0,0),\n",
    "    \"float\": (0,0),\n",
    "    \"float[]\": (0,0),\n",
    "    \"double\": (0,0),\n",
    "    \"double[]\": (0,0)\n",
    "}"
   ]
  },
  {
   "cell_type": "code",
   "execution_count": null,
   "metadata": {},
   "outputs": [],
   "source": [
    "def switch(label, line):\n",
    "    switcher={\n",
    "        \"int\": (lambda x: countInt(x))(line),\n",
    "        \"int[]\": (lambda x: countInt(x))(line),\n",
    "        \"String\": (lambda x: countString(x))(line),\n",
    "        \"String[]\": (lambda x: countString(x))(line),\n",
    "        \"boolean\": (lambda x: countBoolean(x))(line),\n",
    "        \"boolean[]\": (lambda x: countBoolean(x))(line),\n",
    "        \"char\": (lambda x: countChar(x))(line),\n",
    "        \"char[]\": (lambda x: countChar(x))(line),\n",
    "        \"byte\": (lambda x: countByte(x))(line),\n",
    "        \"byte[]\": (lambda x: countByte(x))(line),\n",
    "        \"short\": (lambda x: countShort(x))(line),\n",
    "        \"short[]\": (lambda x: countShort(x))(line),\n",
    "        \"long\": (lambda x: countLong(x))(line),\n",
    "        \"long[]\": (lambda x: countLong(x))(line),\n",
    "        \"float\": (lambda x: countFloat(x))(line),\n",
    "        \"float[]\": (lambda x: countFloat(x))(line),\n",
    "        \"double\": (lambda x: countDouble(x))(line),\n",
    "        \"double[]\": (lambda x: countDouble(x))(line),\n",
    "        }\n",
    "    return switcher.get(label,(1000, 1000))"
   ]
  },
  {
   "cell_type": "code",
   "execution_count": null,
   "metadata": {},
   "outputs": [],
   "source": [
    "for line in lines:\n",
    "    print(\"-------------  \", line.split()[0], \"line: \", line, \"  -------------\")\n",
    "    print(\"countInt: \", countInt(line))\n",
    "    print(\"countString: \", countString(line))\n",
    "    print(\"countBoolean: \", countBoolean(line))\n",
    "    print(\"countChar: \", countChar(line))\n",
    "    print(\"countByte: \", countByte(line))\n",
    "    print(\"countShort: \", countShort(line))\n",
    "    print(\"countLong: \", countLong(line))\n",
    "    print(\"countFloat: \", countFloat(line))\n",
    "    print(\"countDouble: \", countDouble(line))\n",
    "    print(\"\")\n",
    "    counters[ line.split()[0] ] = tuple(map(sum,zip(counters[ line.split()[0] ], switch( line.split()[0], line)[1:])))"
   ]
  },
  {
   "cell_type": "code",
   "execution_count": null,
   "metadata": {},
   "outputs": [],
   "source": [
    "counters"
   ]
  },
  {
   "cell_type": "code",
   "execution_count": 1,
   "metadata": {},
   "outputs": [],
   "source": [
    "from main import evaluate"
   ]
  },
  {
   "cell_type": "code",
   "execution_count": 2,
   "metadata": {},
   "outputs": [
    {
     "name": "stdout",
     "output_type": "stream",
     "text": [
      "Java Lexical Analyser \n",
      "\n",
      "Expresiones a evaluar \n",
      "\n",
      "int a, b, c\n",
      "int d = 20\n",
      "int[] intArr = {1, 2, 3, 4, 1, 2, 3}\n",
      "String str1, str2, str3\n",
      "String str4 = \"Cadena 4\"\n",
      "String[] strArr = {\"cd1\", \"cd2\", \"cd3\"}\n",
      "boolean bl1, bl2, bl3\n",
      "boolean bl4 = true\n",
      "boolean[] blArr = {true, false, true}\n",
      "char ch1 = 'A'\n",
      "char[] chArr = {'A', 'B', 'C'}\n",
      "byte byt1 = 127\n",
      "byte[] bytArr = {1, 2, 3, 4, 1, 2, 3}\n",
      "short shrt1 = 8\n",
      "short[] shrtArr = {5, 6, 7, 8}\n",
      "long lng1 = 1000000l\n",
      "long[] longArr = {10000l, 20000l, 30000l, 40000l}\n",
      "float flt1 = 90f\n",
      "float[] floatArr = {10f, 20f, 30f, 40f}\n",
      "double dbl1 = 10.10\n",
      "double[] dblArr = {1.1, 2.2, 3.3}\n",
      "\n",
      "\n",
      "La expresión:  int a, b, c  es una declaración válida.\n",
      "La expresión:  int d = 20  es una declaración válida.\n",
      "La expresión:  int[] intArr = {1, 2, 3, 4, 1, 2, 3}  es una declaración válida.\n",
      "La expresión:  String str1, str2, str3  es una declaración válida.\n",
      "La expresión:  String str4 = \"Cadena 4\"  es una declaración válida.\n",
      "La expresión:  String[] strArr = {\"cd1\", \"cd2\", \"cd3\"}  es una declaración válida.\n",
      "La expresión:  boolean bl1, bl2, bl3  es una declaración válida.\n",
      "La expresión:  boolean bl4 = true  es una declaración válida.\n",
      "La expresión:  boolean[] blArr = {true, false, true}  es una declaración válida.\n",
      "La expresión:  char ch1 = 'A'  es una declaración válida.\n",
      "La expresión:  char[] chArr = {'A', 'B', 'C'}  es una declaración válida.\n",
      "La expresión:  byte byt1 = 127  es una declaración válida.\n",
      "La expresión:  byte[] bytArr = {1, 2, 3, 4, 1, 2, 3}  es una declaración válida.\n",
      "La expresión:  short shrt1 = 8  es una declaración válida.\n",
      "La expresión:  short[] shrtArr = {5, 6, 7, 8}  es una declaración válida.\n",
      "La expresión:  long lng1 = 1000000l  es una declaración válida.\n",
      "La expresión:  long[] longArr = {10000l, 20000l, 30000l, 40000l}  es una declaración válida.\n",
      "La expresión:  float flt1 = 90f  es una declaración válida.\n",
      "La expresión:  float[] floatArr = {10f, 20f, 30f, 40f}  es una declaración válida.\n",
      "La expresión:  double dbl1 = 10.10  es una declaración válida.\n",
      "La expresión:  double[] dblArr = {1.1, 2.2, 3.3}  es una declaración válida.\n",
      "\n",
      "\n",
      "-------------------------------------  Resultados  ---------------------------------------- \n",
      "\n",
      "\n",
      "\n",
      "Total de variables declaradas: 24\n",
      "\n",
      "Total de variables inicializadas: 21\n",
      "\n",
      "Total de variables tipo arreglo declaradas: 9\n",
      "\n",
      "Total de variables tipo arreglo inicializadas: 9\n",
      "\n",
      "Clasificación de los nombres de las variables de acuerdo a su tipo:\n",
      "\n",
      "int : {'a', 'd', 'b', 'c'}\n",
      "int[] : {'intArr'}\n",
      "String : {'str1', 'str3', 'str2', 'str4'}\n",
      "String[] : {'strArr'}\n",
      "boolean : {'bl4', 'bl2', 'bl1', 'bl3'}\n",
      "boolean[] : {'blArr'}\n",
      "char : {'ch1'}\n",
      "char[] : {'chArr'}\n",
      "byte : {'byt1'}\n",
      "byte[] : {'bytArr'}\n",
      "short : {'shrt1'}\n",
      "short[] : {'shrtArr'}\n",
      "long : {'lng1'}\n",
      "long[] : {'longArr'}\n",
      "float : {'flt1'}\n",
      "float[] : {'floatArr'}\n",
      "double : {'dbl1'}\n",
      "double[] : {'dblArr'}\n"
     ]
    }
   ],
   "source": [
    "evaluate()"
   ]
  },
  {
   "cell_type": "code",
   "execution_count": null,
   "metadata": {},
   "outputs": [],
   "source": []
  }
 ],
 "metadata": {
  "kernelspec": {
   "display_name": "Python 3",
   "language": "python",
   "name": "python3"
  },
  "language_info": {
   "codemirror_mode": {
    "name": "ipython",
    "version": 3
   },
   "file_extension": ".py",
   "mimetype": "text/x-python",
   "name": "python",
   "nbconvert_exporter": "python",
   "pygments_lexer": "ipython3",
   "version": "3.9.0"
  }
 },
 "nbformat": 4,
 "nbformat_minor": 2
}
